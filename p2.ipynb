{
 "cells": [
  {
   "cell_type": "code",
   "execution_count": 2,
   "metadata": {},
   "outputs": [],
   "source": [
    "# Basic imports\n",
    "import numpy as np\n",
    "import pandas as pd\n",
    "\n",
    "from pulp import *"
   ]
  },
  {
   "cell_type": "markdown",
   "metadata": {},
   "source": [
    "### Récupérer les info"
   ]
  },
  {
   "cell_type": "code",
   "execution_count": 3,
   "metadata": {},
   "outputs": [],
   "source": [
    "conso_df = pd.read_csv(\"./Consommations.csv\", header=None)\n",
    "apport_df = pd.read_csv(\"./Apports-hydro.csv\", header=None)\n",
    "sites_df = pd.read_csv(\"Sites.csv\")\n",
    "\n",
    "array_conso = conso_df.to_numpy()\n",
    "array_apport = apport_df.to_numpy()\n",
    "array_site = sites_df.to_numpy()\n",
    "\n",
    "array_site = array_site[array_site[:, 0].argsort()]"
   ]
  },
  {
   "cell_type": "markdown",
   "metadata": {},
   "source": [
    "### Donnée donné\n"
   ]
  },
  {
   "cell_type": "code",
   "execution_count": 4,
   "metadata": {},
   "outputs": [],
   "source": [
    "cout_instal_onshore  = 168903 # Coût *amorti sur un an* pour l'installation d'un MW éolien on-shore (euros/MW/an)\n",
    "cout_instal_offshore = 300336 # Coût *amorti sur un an* pour l'installation d'un MW éolien on-shore (euros/MW/an)\n",
    "\n",
    "cout_instal_gaz = 94956 # Coût *amorti sur un an* pour l'installation d'un MW de centrale au gaz (euros/MW/an)\n",
    "cout_fonct_gaz  = 65    # Coût de fonctionnement pour la production d'un MWh par centrale au gaz (euros/MWh)\n",
    "\n",
    "stockage_pays = [0.3*1e6 , 3.2*1e6 , 0.01*1e6 , 0 , 18.4*1e6 , 9.8*1e6 , 0.24*1e6 , 7.9*1e6 , 0.005*1e6 , 84.147*1e6 , 0 , 2.6*1e6 , 1.2*1e6 , 33.756*1e6 , 8.4*1e6]\n",
    "\n",
    "rend_turbinage = 0.85 \n",
    "\n",
    "turbinage_pays = [8587 , 12009 , 1417 , 9 , 18372 , 25132 , 527 , 21117 , 1140 , 28941 , 37 , 5052 , 4269 , 16637 , 15101]\n",
    "pompage_pays = [5223 , 3580 , 1307 , 0 , 5347 , 4303 , 292 , 7544 , 1100 , 1396 , 0 , 1029 , 2744 , 45 , 1636 ]"
   ]
  },
  {
   "cell_type": "code",
   "execution_count": 5,
   "metadata": {},
   "outputs": [],
   "source": [
    "# Donnée européenne\n",
    "Smax = sum(stockage_pays) # Stockage de l'europe\n",
    "Cmax = sum(sum(array_conso)) # Conso de l'europe\n",
    "Amax = sum(sum(array_apport)) # Apport naturel de l'europe\n",
    "Ppmax = sum(pompage_pays) # Puissance pompage de l'europe\n",
    "Ptmax = sum(turbinage_pays) # Puissance turbinage de l'europe"
   ]
  },
  {
   "cell_type": "markdown",
   "metadata": {},
   "source": [
    "# Question 4A & 4B\n"
   ]
  },
  {
   "cell_type": "code",
   "execution_count": 6,
   "metadata": {},
   "outputs": [
    {
     "name": "stdout",
     "output_type": "stream",
     "text": [
      "Welcome to the CBC MILP Solver \n",
      "Version: 2.10.3 \n",
      "Build Date: Dec 15 2019 \n",
      "\n",
      "command line - /home/marco/.local/lib/python3.10/site-packages/pulp/solverdir/cbc/linux/64/cbc /tmp/251cddb795e3463fa7e4ddfca02fb8f8-pulp.mps -timeMode elapsed -branch -printingOptions all -solution /tmp/251cddb795e3463fa7e4ddfca02fb8f8-pulp.sol (default strategy 1)\n",
      "At line 2 NAME          MODEL\n",
      "At line 3 ROWS\n",
      "At line 8 COLUMNS\n",
      "At line 17 RHS\n",
      "At line 21 BOUNDS\n",
      "At line 24 ENDATA\n",
      "Problem MODEL has 3 rows, 4 columns and 6 elements\n",
      "Coin0008I MODEL read with 0 errors\n",
      "Option for timeMode changed from cpu to elapsed\n",
      "Presolve 0 (-3) rows, 0 (-4) columns and 0 (-6) elements\n",
      "Empty problem - 0 rows, 0 columns and 0 elements\n",
      "Optimal - objective value 4.3748866e+14\n",
      "After Postsolve, objective 4.3748866e+14, infeasibilities - dual 0 (0), primal 0 (0)\n",
      "Optimal objective 4.374886617e+14 - 0 iterations time 0.002, Presolve 0.00\n",
      "Option for printingOptions changed from normal to all\n",
      "Total time (CPU seconds):       0.00   (Wallclock seconds):       0.01\n",
      "\n",
      "2590177000.0 et 0.0\n",
      "Prix moyen de l'électricité consommée: 168902.9999445723\n"
     ]
    },
    {
     "name": "stderr",
     "output_type": "stream",
     "text": [
      "/home/marco/.local/lib/python3.10/site-packages/pulp/pulp.py:1316: UserWarning: Spaces are not permitted in the name. Converted to '_'\n",
      "  warnings.warn(\"Spaces are not permitted in the name. Converted to '_'\")\n"
     ]
    }
   ],
   "source": [
    "# création du problème\n",
    "prob = LpProblem(\"Minimisation du coût d'installation des éoliennes\", LpMinimize)\n",
    "\n",
    "# variables\n",
    "Wonshore = LpVariable(\"Puissance_installée_onshore\", lowBound=0)\n",
    "Woffshore = LpVariable(\"Puissance_installée_offshore\", lowBound=0)\n",
    "Ppump = LpVariable(\"Puissance_pompage\", lowBound=0, upBound=rend_turbinage)\n",
    "Pturbine = LpVariable(\"Puissance_turbinage\", lowBound=0, upBound=rend_turbinage)\n",
    "\n",
    "# fonction objectif\n",
    "prob += cout_instal_onshore * Wonshore + cout_instal_offshore * Woffshore\n",
    "\n",
    "# contraintes\n",
    "prob += Wonshore + Woffshore + Pturbine - Ppump == Cmax\n",
    "prob += 0 <= Ppump <= rend_turbinage\n",
    "prob += 0 <= Pturbine <= rend_turbinage\n",
    "\n",
    "prob.solve()\n",
    "\n",
    "print(value(Wonshore), \"et\", value(Woffshore))\n",
    "\n",
    "cout_total_prod = value(Wonshore) * cout_instal_onshore + value(Woffshore) * cout_instal_offshore\n",
    "quantite_totale_conso = value(Wonshore) + value(Woffshore) + value(Pturbine)\n",
    "\n",
    "prix_moyen = cout_total_prod / quantite_totale_conso\n",
    "\n",
    "print(\"Prix moyen de l'électricité consommée:\", prix_moyen)"
   ]
  },
  {
   "cell_type": "markdown",
   "metadata": {},
   "source": [
    "# Question 4C"
   ]
  },
  {
   "cell_type": "code",
   "execution_count": 7,
   "metadata": {},
   "outputs": [
    {
     "name": "stdout",
     "output_type": "stream",
     "text": [
      "158347\n",
      "Cout marginal de stockage suplémentaire: 0.0009937925837240514\n",
      "Cout marginal de pompage suplémentaire: 4.751673885797905\n",
      "Cout marginal de turbinage suplémentaire: 1.0666637192025887\n"
     ]
    }
   ],
   "source": [
    "cm_stock = prix_moyen / Smax\n",
    "cm_pump = prix_moyen / Ppmax\n",
    "cm_turbinage = prix_moyen / Ptmax\n",
    "\n",
    "print(Ptmax)\n",
    "\n",
    "print(f\"Cout marginal de stockage suplémentaire: {cm_stock}\")\n",
    "print(f\"Cout marginal de pompage suplémentaire: {cm_pump}\")\n",
    "print(f\"Cout marginal de turbinage suplémentaire: {cm_turbinage}\")"
   ]
  },
  {
   "cell_type": "markdown",
   "metadata": {},
   "source": [
    "# Question 5"
   ]
  },
  {
   "cell_type": "code",
   "execution_count": 8,
   "metadata": {},
   "outputs": [
    {
     "name": "stdout",
     "output_type": "stream",
     "text": [
      "Oui\n",
      "Welcome to the CBC MILP Solver \n",
      "Version: 2.10.3 \n",
      "Build Date: Dec 15 2019 \n",
      "\n",
      "command line - /home/marco/.local/lib/python3.10/site-packages/pulp/solverdir/cbc/linux/64/cbc /tmp/2d942dfed08647bd851e0bb84e4d264a-pulp.mps -timeMode elapsed -branch -printingOptions all -solution /tmp/2d942dfed08647bd851e0bb84e4d264a-pulp.sol (default strategy 1)\n",
      "At line 2 NAME          MODEL\n",
      "At line 3 ROWS\n",
      "At line 650 COLUMNS\n",
      "At line 6437 RHS\n",
      "At line 7083 BOUNDS\n",
      "At line 9012 ENDATA\n",
      "Problem MODEL has 645 rows, 1930 columns and 1932 elements\n",
      "Coin0008I MODEL read with 0 errors\n",
      "Option for timeMode changed from cpu to elapsed\n",
      "Continuous objective value is 4.37489e+14 - 0.00 seconds\n",
      "Cgl0004I processed model has 0 rows, 0 columns (0 integer (0 of which binary)) and 0 elements\n",
      "Cbc3007W No integer variables - nothing to do\n",
      "Cuts at root node changed objective from 4.37489e+14 to -1.79769e+308\n",
      "Probing was tried 0 times and created 0 cuts of which 0 were active after adding rounds of cuts (0.000 seconds)\n",
      "Gomory was tried 0 times and created 0 cuts of which 0 were active after adding rounds of cuts (0.000 seconds)\n",
      "Knapsack was tried 0 times and created 0 cuts of which 0 were active after adding rounds of cuts (0.000 seconds)\n",
      "Clique was tried 0 times and created 0 cuts of which 0 were active after adding rounds of cuts (0.000 seconds)\n",
      "MixedIntegerRounding2 was tried 0 times and created 0 cuts of which 0 were active after adding rounds of cuts (0.000 seconds)\n",
      "FlowCover was tried 0 times and created 0 cuts of which 0 were active after adding rounds of cuts (0.000 seconds)\n",
      "TwoMirCuts was tried 0 times and created 0 cuts of which 0 were active after adding rounds of cuts (0.000 seconds)\n",
      "ZeroHalf was tried 0 times and created 0 cuts of which 0 were active after adding rounds of cuts (0.000 seconds)\n",
      "\n",
      "Result - Optimal solution found\n",
      "\n",
      "Objective value:                437488661650650.75000000\n",
      "Enumerated nodes:               0\n",
      "Total iterations:               0\n",
      "Time (CPU seconds):             0.01\n",
      "Time (Wallclock seconds):       0.02\n",
      "\n",
      "Option for printingOptions changed from normal to all\n",
      "Total time (CPU seconds):       0.02   (Wallclock seconds):       0.02\n",
      "\n",
      "Prix moyen de l'électricité consommée: 168902.9999445723\n"
     ]
    }
   ],
   "source": [
    "# création du problème\n",
    "prob = LpProblem(\"Minimisation_du_coût_d'installation_des_éoliennes\", LpMinimize)\n",
    "\n",
    "# variables\n",
    "Wonshore = LpVariable(\"Puissance_installée_onshore\", lowBound=0)\n",
    "Woffshore = LpVariable(\"Puissance_installée_offshore\", lowBound=0)\n",
    "Ppump = LpVariable(\"Puissance_pompage\", lowBound=0, upBound=rend_turbinage)\n",
    "Pturbine = LpVariable(\"Puissance_turbinage\", lowBound=0, upBound=rend_turbinage)\n",
    "SitesAt100 = [LpVariable(f\"Site{i}_used_at_100%\", cat='Binary') for i in range(len(array_site))]\n",
    "SitesAt50 = [LpVariable(f\"Site{i}_used_at_50%\", cat='Binary') for i in range(len(array_site))]\n",
    "SitesAt0 = [LpVariable(f\"Site{i}_used_at_0%\", cat='Binary') for i in range(len(array_site))]\n",
    "\n",
    "print(array_site[0][5])\n",
    "\n",
    "# fonction objectif\n",
    "prob += cout_instal_onshore * Wonshore + cout_instal_offshore * Woffshore\n",
    "\n",
    "# contraintes\n",
    "prob += Wonshore + Woffshore + Pturbine - Ppump == Cmax\n",
    "prob += 0 <= Ppump <= rend_turbinage\n",
    "prob += 0 <= Pturbine <= rend_turbinage\n",
    "for i in range(len(array_site)) : \n",
    "    prob += SitesAt100[i] + SitesAt50[i] + SitesAt0[i] == 1\n",
    "\n",
    "prob.solve()\n",
    "\n",
    "cout_total_prod = value(Wonshore) * cout_instal_onshore + value(Woffshore) * cout_instal_offshore\n",
    "quantite_totale_conso = value(Wonshore) + value(Woffshore) + value(Pturbine)\n",
    "\n",
    "prix_moyen = cout_total_prod / quantite_totale_conso\n",
    "\n",
    "print(\"Prix moyen de l'électricité consommée:\", prix_moyen)"
   ]
  }
 ],
 "metadata": {
  "kernelspec": {
   "display_name": "Python 3",
   "language": "python",
   "name": "python3"
  },
  "language_info": {
   "codemirror_mode": {
    "name": "ipython",
    "version": 3
   },
   "file_extension": ".py",
   "mimetype": "text/x-python",
   "name": "python",
   "nbconvert_exporter": "python",
   "pygments_lexer": "ipython3",
   "version": "3.10.12"
  }
 },
 "nbformat": 4,
 "nbformat_minor": 2
}
