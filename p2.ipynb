{
 "cells": [
  {
   "cell_type": "code",
   "execution_count": 2,
   "metadata": {},
   "outputs": [],
   "source": [
    "# Basic imports\n",
    "import numpy as np\n",
    "import pandas as pd\n",
    "\n",
    "from pulp import *"
   ]
  },
  {
   "cell_type": "markdown",
   "metadata": {},
   "source": [
    "### Récupérer les info"
   ]
  },
  {
   "cell_type": "code",
   "execution_count": 3,
   "metadata": {},
   "outputs": [],
   "source": [
    "conso_df = pd.read_csv(\"./Consommations.csv\", header=None)\n",
    "apport_df = pd.read_csv(\"./Apports-hydro.csv\", header=None)\n",
    "sites_df = pd.read_csv(\"Sites.csv\")\n",
    "\n",
    "array_conso = conso_df.to_numpy()\n",
    "array_apport = apport_df.to_numpy()\n",
    "array_site = sites_df.to_numpy()\n",
    "\n",
    "array_site = array_site[array_site[:, 0].argsort()]"
   ]
  },
  {
   "cell_type": "markdown",
   "metadata": {},
   "source": [
    "### Donnée donné\n"
   ]
  },
  {
   "cell_type": "code",
   "execution_count": 4,
   "metadata": {},
   "outputs": [],
   "source": [
    "cout_instal_onshore  = 168903 # Coût *amorti sur un an* pour l'installation d'un MW éolien on-shore (euros/MW/an)\n",
    "cout_instal_offshore = 300336 # Coût *amorti sur un an* pour l'installation d'un MW éolien on-shore (euros/MW/an)\n",
    "\n",
    "cout_instal_gaz = 94956 # Coût *amorti sur un an* pour l'installation d'un MW de centrale au gaz (euros/MW/an)\n",
    "cout_fonct_gaz  = 65    # Coût de fonctionnement pour la production d'un MWh par centrale au gaz (euros/MWh)\n",
    "\n",
    "stockage_pays = [0.3*1e6 , 3.2*1e6 , 0.01*1e6 , 0 , 18.4*1e6 , 9.8*1e6 , 0.24*1e6 , 7.9*1e6 , 0.005*1e6 , 84.147*1e6 , 0 , 2.6*1e6 , 1.2*1e6 , 33.756*1e6 , 8.4*1e6]\n",
    "\n",
    "rend_turbinage = 0.85 \n",
    "\n",
    "turbinage_pays = [8587 , 12009 , 1417 , 9 , 18372 , 25132 , 527 , 21117 , 1140 , 28941 , 37 , 5052 , 4269 , 16637 , 15101]\n",
    "pompage_pays = [5223 , 3580 , 1307 , 0 , 5347 , 4303 , 292 , 7544 , 1100 , 1396 , 0 , 1029 , 2744 , 45 , 1636 ]"
   ]
  },
  {
   "cell_type": "code",
   "execution_count": 5,
   "metadata": {},
   "outputs": [],
   "source": [
    "# Donnée européenne\n",
    "Smax = sum(stockage_pays) # Stockage de l'europe\n",
    "Cmax = sum(sum(array_conso)) # Conso de l'europe\n",
    "Amax = sum(sum(array_apport)) # Apport naturel de l'europe\n",
    "Ppmax = sum(pompage_pays) # Puissance pompage de l'europe\n",
    "Ptmax = sum(turbinage_pays) # Puissance turbinage de l'europe"
   ]
  },
  {
   "cell_type": "markdown",
   "metadata": {},
   "source": [
    "# Question 4A & 4B\n"
   ]
  },
  {
   "cell_type": "code",
   "execution_count": 17,
   "metadata": {},
   "outputs": [
    {
     "name": "stdout",
     "output_type": "stream",
     "text": [
      "Welcome to the CBC MILP Solver \n",
      "Version: 2.10.3 \n",
      "Build Date: Dec 15 2019 \n",
      "\n",
      "command line - /home/marco/.local/lib/python3.10/site-packages/pulp/solverdir/cbc/linux/64/cbc /tmp/934eaad3d3014e3eba317c290bc9c415-pulp.mps -timeMode elapsed -branch -printingOptions all -solution /tmp/934eaad3d3014e3eba317c290bc9c415-pulp.sol (default strategy 1)\n",
      "At line 2 NAME          MODEL\n",
      "At line 3 ROWS\n",
      "At line 8 COLUMNS\n",
      "At line 17 RHS\n",
      "At line 21 BOUNDS\n",
      "At line 24 ENDATA\n",
      "Problem MODEL has 3 rows, 4 columns and 6 elements\n",
      "Coin0008I MODEL read with 0 errors\n",
      "Option for timeMode changed from cpu to elapsed\n",
      "Presolve 0 (-3) rows, 0 (-4) columns and 0 (-6) elements\n",
      "Empty problem - 0 rows, 0 columns and 0 elements\n",
      "Optimal - objective value 4.3748866e+14\n",
      "After Postsolve, objective 4.3748866e+14, infeasibilities - dual 0 (0), primal 0 (0)\n",
      "Optimal objective 4.374886617e+14 - 0 iterations time 0.002, Presolve 0.00\n",
      "Option for printingOptions changed from normal to all\n",
      "Total time (CPU seconds):       0.00   (Wallclock seconds):       0.00\n",
      "\n",
      "Prix moyen de l'électricité consommée: 168902.9999445723\n"
     ]
    }
   ],
   "source": [
    "# création du problème\n",
    "prob = LpProblem(\"Minimisation du coût d'installation des éoliennes\", LpMinimize)\n",
    "\n",
    "# variables\n",
    "Wonshore = LpVariable(\"Puissance_installée_onshore\", lowBound=0)\n",
    "Woffshore = LpVariable(\"Puissance_installée_offshore\", lowBound=0)\n",
    "Ppump = LpVariable(\"Puissance_pompage\", lowBound=0, upBound=rend_turbinage)\n",
    "Pturbine = LpVariable(\"Puissance_turbinage\", lowBound=0, upBound=rend_turbinage)\n",
    "\n",
    "# fonction objectif\n",
    "prob += cout_instal_onshore * Wonshore + cout_instal_offshore * Woffshore\n",
    "\n",
    "# contraintes\n",
    "prob += Wonshore + Woffshore + Pturbine - Ppump == Cmax\n",
    "prob += 0 <= Ppump <= rend_turbinage\n",
    "prob += 0 <= Pturbine <= rend_turbinage\n",
    "\n",
    "prob.solve()\n",
    "\n",
    "cout_total_prod = value(Wonshore) * cout_instal_onshore + value(Woffshore) * cout_instal_offshore\n",
    "quantite_totale_conso = value(Wonshore) + value(Woffshore) + value(Pturbine)\n",
    "\n",
    "prix_moyen = cout_total_prod / quantite_totale_conso\n",
    "\n",
    "print(\"Prix moyen de l'électricité consommée:\", prix_moyen)\n"
   ]
  },
  {
   "cell_type": "markdown",
   "metadata": {},
   "source": [
    "# Question 4C"
   ]
  },
  {
   "cell_type": "code",
   "execution_count": null,
   "metadata": {},
   "outputs": [],
   "source": []
  }
 ],
 "metadata": {
  "kernelspec": {
   "display_name": "Python 3",
   "language": "python",
   "name": "python3"
  },
  "language_info": {
   "codemirror_mode": {
    "name": "ipython",
    "version": 3
   },
   "file_extension": ".py",
   "mimetype": "text/x-python",
   "name": "python",
   "nbconvert_exporter": "python",
   "pygments_lexer": "ipython3",
   "version": "3.10.12"
  }
 },
 "nbformat": 4,
 "nbformat_minor": 2
}
